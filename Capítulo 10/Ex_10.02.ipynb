{
 "cells": [
  {
   "cell_type": "markdown",
   "metadata": {},
   "source": [
    "#### *Exercise 10.2*\n",
    "\n",
    "#### Give pseudocode for semi-gradient one-step Expected Sarsa for control."
   ]
  },
  {
   "cell_type": "markdown",
   "metadata": {},
   "source": [
    "Ele seria igual ao pseudocódigo da página 244, mas sendo que, o termo $\\hat{q}(S',A',w)$ seria substituido por $\\sum a \\pi (a|S') \\hat{q}(S',a,w)$"
   ]
  }
 ],
 "metadata": {
  "language_info": {
   "name": "python"
  }
 },
 "nbformat": 4,
 "nbformat_minor": 2
}
