{
 "cells": [
  {
   "cell_type": "markdown",
   "metadata": {},
   "source": [
    "#### *Exercise 5.1*\n",
    "\n",
    "#### Consider the diagrams on the right in Figure 5.1. Why does the estimated value function jump up for the last two rows in the rear? Why does it drop off for the whole last row on the left? Why are the frontmost values higher in the upper diagrams than in the lower?"
   ]
  },
  {
   "cell_type": "markdown",
   "metadata": {},
   "source": [
    "---\n",
    "#### Resposta 1:\n",
    "\n",
    "As últimas linhas normalmente resultam em vitória, o que explica o porquê de essas linhas estarem maiores. Contudo, a queda é devido ao fato de quando o dealer tem um ace, a probabilidade de vitória também decai, visto que o valor final para o dealer tende a ser mais alto. Além disso, os valores são maiores para os gráficos de cima, pois com um Ás é menos provável que o jogador ``estoure''."
   ]
  }
 ],
 "metadata": {
  "language_info": {
   "name": "python"
  }
 },
 "nbformat": 4,
 "nbformat_minor": 2
}
