{
 "cells": [
  {
   "cell_type": "markdown",
   "metadata": {},
   "source": [
    "#### *Exercise 5.4*\n",
    "\n",
    "#### The pseudocode for Monte Carlo ES is ineffcient because, for each state–action pair, it maintains a list of all returns and repeatedly calculates their mean. It would be more effcient to use techniques similar to those explained in Section 2.4 to maintain just the mean and a count (for each state–action pair) and update them incrementally. Describe how the pseudocode would be altered to achieve this."
   ]
  },
  {
   "cell_type": "markdown",
   "metadata": {},
   "source": [
    "---\n",
    "#### Resposta 1:\n",
    "\n",
    "Ao invés de calcular a média, poderia ser usada a equação,\n",
    "\n",
    "$$\\mathcal{Q}_{n+1} =  \\mathcal{Q}_n + \\frac{(G_n - \\mathcal{Q}_n)}{n}.$$\n",
    "\n",
    "Nesse caso, seria necessário haver um array $N_{s,a}$ de forma a ter um contador $n$ para contar a visitas em cada episódio. $G$ continuaria a ser atualizado a mesma forma.\n",
    "\n"
   ]
  }
 ],
 "metadata": {
  "language_info": {
   "name": "python"
  }
 },
 "nbformat": 4,
 "nbformat_minor": 2
}
