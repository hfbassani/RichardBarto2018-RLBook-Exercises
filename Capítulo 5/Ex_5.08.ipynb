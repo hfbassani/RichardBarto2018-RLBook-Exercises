{
 "cells": [
  {
   "cell_type": "markdown",
   "metadata": {},
   "source": [
    "#### *Exercise 5.8*\n",
    "\n",
    "#### The results with Example 5.5 and shown in Figure 5.4 used a first-visit MC method. Suppose that instead an every-visit MC method was used on the same problem. Would the variance of the estimator still be infinite? Why or why not?"
   ]
  },
  {
   "cell_type": "markdown",
   "metadata": {},
   "source": [
    "---\n",
    "#### Resposta 1:\n",
    "\n",
    "Para every-visit MC, a expectativa seria,\n",
    "\n",
    "\n",
    "$$E[\\sum_{t' \\in \\tau (s)}(\\prod^{T-1}_{t = t'}{\\frac{\\pi(A_t | B_t)}{b (A_t | B_t)}})^2]$$\n",
    "\n",
    "Que é maior que para o first-visit MC, ou seja, se para o first-visit MC é infinito, para every-visit MC também é infinito, o que faz com que a variância seja infinita."
   ]
  }
 ],
 "metadata": {
  "language_info": {
   "name": "python"
  }
 },
 "nbformat": 4,
 "nbformat_minor": 2
}
