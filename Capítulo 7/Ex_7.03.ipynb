{
 "cells": [
  {
   "cell_type": "markdown",
   "metadata": {},
   "source": [
    "#### *Exercise 7.3*\n",
    "\n",
    "#### Why do you think a larger random walk task (19 states instead of 5) was used in the examples of this chapter? Would a smaller walk have shifted the advantage to a different value of n? How about the change in left-side outcome from 0 to -1 made in the larger walk? Do you think that made any difference in the best value of n?"
   ]
  },
  {
   "cell_type": "markdown",
   "metadata": {},
   "source": [
    "Provavelmente não seria possível demonstrar a diferença de valores altos de n para um número tão pequeno de estados. Quanto ao retorno de -1 no ponto terminal da esquerda, menores valores de n precisam de mais episódios a um passo maior para fazer com que o resultado melhore, enquanto que provavelmente ao aumentar muito o valor de n, faria com que a maioria dos estados terminasse com um valor parecido."
   ]
  }
 ],
 "metadata": {
  "language_info": {
   "name": "python"
  }
 },
 "nbformat": 4,
 "nbformat_minor": 2
}
