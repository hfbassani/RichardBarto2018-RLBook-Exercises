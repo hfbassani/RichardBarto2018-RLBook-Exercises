{
 "cells": [
  {
   "cell_type": "markdown",
   "metadata": {},
   "source": [
    "#### *Exercise 7.4*\n",
    "\n",
    "#### Prove that the n-step return of Sarsa (7.4) can be written exactly in terms of a novel TD error, as $G_{t:t+n} = Q_{t-1}(S_t, A_t) + \\sum^{min(t+n,T)-1}_{k=t} \\gamma^{k-t} [R_{k+1} + \\gamma Q_{k}(S_{k+1}, A_{k+1}) - Q_{k - 1}(S_k, A_k)]$ (7.6)"
   ]
  },
  {
   "cell_type": "markdown",
   "metadata": {},
   "source": [
    "$$G_{t:t+n} = Q_{t-1}(S_t, A_t) + \\sum^{min(t+n,T)-1}_{k=t} \\gamma^{k-t} [R_{k+1} + \\gamma Q_{k}(S_{k+1}, A_{k+1}) - Q_{k - 1}(S_k, A_k)]$$\n",
    "\n",
    "$$G_{t:t+n} = Q_{t-1}(S_t, A_t) + R_{t+1} + \\gamma Q_t(S_{t+1}, A_{t+1}) - Q_{t-1}(S_{t}, A_{t}) + \\gamma R_{t+2} + \\gamma^2 Q_{t+1}(S_{t+2}, A_{t+2}) - \\gamma Q_t(S_{t+1}, A_{t+1}) ... + \\gamma^{n-1} R_{t+n} + \\gamma^{n} Q_{t+n-1} (S_{t+n}, A_{t+n}) - \\gamma^{n} Q_{t+n-2}(S_{t+n-1}, A_{t+n-1})$$\n",
    "\n",
    "\n",
    "$$G_{t:t+n} =  \\sum^{t+n-1}_{k=t} \\gamma^{k-t} R_{k+1} + \\gamma^{n} Q_{t+n-1} (S_{t+n}, A_{t+n})$$"
   ]
  }
 ],
 "metadata": {
  "language_info": {
   "name": "python"
  }
 },
 "nbformat": 4,
 "nbformat_minor": 2
}
