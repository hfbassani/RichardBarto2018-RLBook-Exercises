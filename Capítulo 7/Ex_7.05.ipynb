{
 "cells": [
  {
   "cell_type": "markdown",
   "metadata": {},
   "source": [
    "#### *Exercise 7.5*\n",
    "\n",
    "#### Write the pseudocode for the off-policy state-value prediction algorithm described above."
   ]
  },
  {
   "cell_type": "markdown",
   "metadata": {},
   "source": [
    "Seria o mesmo que o n-step TD original, sendo que G seria atualizado como,\n",
    "\n",
    "\n",
    "$$\\rho_t (R_{t+1} + \\gamma G_{t+1:h}) + (1-\\rho_t) V_{h-1} (S_t)$$\n",
    "\n",
    "e $\\rho$ seria calculado antes da atualização de $G$ e $\\rho$ seria multiplicado ao valor do estado atual na atualização do valor."
   ]
  }
 ],
 "metadata": {
  "language_info": {
   "name": "python"
  }
 },
 "nbformat": 4,
 "nbformat_minor": 2
}
