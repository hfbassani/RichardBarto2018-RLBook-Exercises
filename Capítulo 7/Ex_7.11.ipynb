{
 "cells": [
  {
   "cell_type": "markdown",
   "metadata": {},
   "source": [
    "#### *Exercise 7.11*\n",
    "\n",
    "#### Show that if the approximate action values are unchanging, then the tree-backup return (7.16) can be written as a sum of expectation-based TD errors:"
   ]
  },
  {
   "cell_type": "markdown",
   "metadata": {},
   "source": [
    "Se V não muda, então todo V é igual para um mesmo estado. Tendo isso em mente,\n",
    "\n",
    "\n",
    "$$G_{t:h} - Q(S_t, A_t) = R_{t+1} + \\gamma V(S_{t+1}) + \\gamma \\pi(A_{t+1},S_{t+1}) G_{t+1:t+n} - \\gamma \\pi (A_{t+1}, S_{t+1}) Q(S_{t+1}, A_{t+1}) - Q(S_t, A_t) $$\n",
    "\n",
    "$$G_{t:h} - Q(S_t, A_t) = \\delta_t + \\gamma \\pi(A_{t+1},S_{t+1}) G_{t+1:t+n} - \\gamma \\pi (A_{t+1}, S_{t+1}) Q(S_{t+1}, A_{t+1})$$\n",
    "\n",
    "$$G_{t:h} - Q(S_t, A_t) = \\delta_t + \\gamma \\pi(A_{t+1}, S_{t+1}) [ G_{t+1:t+n} - Q(S_{t+1}, A_{t+1})]$$\n",
    "\n",
    "\n",
    "$$G_{t:h} - Q(S_t, A_t) = \\delta_t + \\gamma \\pi(A_{t+1}, S_{t+1}) [ G_{t+1:t+n} + \\delta_{t+1} - R_{t+2} - \\gamma V(S_{t+2})]$$\n",
    "\n",
    "$$G_{t:h} - Q(S_t, A_t) = \\delta_t + \\gamma \\pi(A_{t+1}, S_{t+1}) \\delta_{t+1} + \\gamma \\pi (A_{t+1}, S_{t+1}) [ G_{t+1:t+n} - R_{t+2} - \\gamma V(S_{t+2})]$$\n",
    "\n",
    "mas,\n",
    "\n",
    "$$-R_{t+2} - \\gamma V(S_{t+2}) = - G_{t+1:t+n} + \\gamma \\pi(A_{t+2}, S_{t+2})$$\n",
    "\n",
    "assim, substituindo,\n",
    "\n",
    "$$G_{t:h} - Q(S_t, A_t) = \\delta_t + \\gamma \\pi(A_{t+1}, S_{t+1}) \\delta_{t+1} + \\gamma \\pi (A_{t+1}, S_{t+1}) [ \\gamma \\pi(A_{t+2}, S_{t+2}) G_{t+2:t+n} - \\gamma \\pi (A_{t+2}, S_{t+2}) Q(S_{t+2}, A_{t+2})]$$\n",
    "\n",
    "$$G_{t:h} - Q(S_t, A_t) = \\delta_t + \\gamma \\pi(A_{t+1}, S_{t+1}) \\delta_{t+1} + \\gamma^2 \\pi (A_{t+1}, S_{t+1}) \\pi(A_{t+2}, S_{t+2}) [  G_{t+2:t+n} -  Q(S_{t+2}, A_{t+2})]$$\n",
    "\n",
    "assim,\n",
    "\n",
    "$$G_{t:h} - Q(S_t, A_t) = \\sum^{min(t+n-1, T-1)_{k=t} \\delta_k \\prod^{k}_{i=t+1} \\gamma \\pi(A_j, S_j)}$$"
   ]
  }
 ],
 "metadata": {
  "language_info": {
   "name": "python"
  }
 },
 "nbformat": 4,
 "nbformat_minor": 2
}
