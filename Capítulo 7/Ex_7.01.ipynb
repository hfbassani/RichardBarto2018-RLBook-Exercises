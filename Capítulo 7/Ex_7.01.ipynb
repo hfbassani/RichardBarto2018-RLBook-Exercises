{
 "cells": [
  {
   "cell_type": "markdown",
   "metadata": {},
   "source": [
    "#### *Exercise 7.1*\n",
    "\n",
    "#### If V changes during the episode, then (6.6) only holds approximately; what would the difference be between the two sides? Let $V_t$ denote the array of state values used at time t in the TD error (6.5) and in the TD update (6.2). Redo the derivation above to determine the additional amount that must be added to the sum of TD errors in order to equal the Monte Carlo error."
   ]
  },
  {
   "cell_type": "markdown",
   "metadata": {},
   "source": [
    "\n",
    "$$G_t - V_t(S_t) = R_{t+1} + \\gamma G_{t+1} - V_t(S_t) + \\gamma V_t(S_t) - \\gamma V_t(S_t)  $$\n",
    "$$G_t - V_t(S_t) = \\delta_t + \\gamma(G_{t+1} - V_t(S_t))  $$\n",
    "\n",
    "mas,\n",
    "\n",
    "$$ V_{t+1}(S_t) = V_t(S_t) + \\alpha [R_{t+1} + \\gamma V_t (S_{t+1}) - V_t(S_t)] $$\n",
    "$$ V_t(S_t) = V_{t+1}(S_t) - \\alpha [R_{t+1} + \\gamma V_t (S_{t+1}) - V_t(S_t)] $$\n",
    "\n",
    "\n",
    "Substituindo a equação de cima no resultado anterior múltiplas vezes, é possível concluir que,\n",
    "\n",
    "$$ G_t - V_t(S_t) = \\sum^{T-1}_{k=t} \\gamma^{k-t} \\delta_k + \\gamma^{k-t+1} \\Delta_{k+1} $$\n",
    "\n",
    "em que, $\\Delta_t = \\alpha [R_{t+1} + \\gamma V_t (S_{t+1}) - V_t(S_t)]$. Ou seja, o termo a ser adicionado seria,\n",
    "\n",
    "\n",
    "$$ - \\sum^{T-1}_{k=t} \\gamma^{k-t+1} \\Delta_{k+1} $$"
   ]
  }
 ],
 "metadata": {
  "language_info": {
   "name": "python"
  }
 },
 "nbformat": 4,
 "nbformat_minor": 2
}
