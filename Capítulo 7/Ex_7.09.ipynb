{
 "cells": [
  {
   "cell_type": "markdown",
   "metadata": {},
   "source": [
    "#### *Exercise 7.9*\n",
    "\n",
    "#### Repeat the above exercise for the action version of the off-policy n-step return (7.14) and the Expected Sarsa TD error (the quantity in brackets in Equation 6.9)."
   ]
  },
  {
   "cell_type": "markdown",
   "metadata": {},
   "source": [
    "Se V não muda, então todo V é igual para um mesmo estado. Tendo isso em mente,\n",
    "\n",
    "\n",
    "$$G_{t:h} - V(S_t) = \\rho_t (R_{t+1} + \\gamma G_{t+1:h}) + (1-rho_t) V_{h-1}(St) - V(S_t)$$\n",
    "$$G_{t:h} - V(S_t) = \\rho_t(R_{t + 1} + \\gamma G_{t+1:h} - V(S_{t+1}))$$\n",
    "$$G_{t:h} - V(S_t) = \\rho_t(\\delta_t + \\gamma (G_{t+1:h} - V(S_{t+1})))$$\n",
    "$$G_{t:h} - V(S_t) = \\rho_t \\delta_t + \\rho_t \\gamma (\\rho_{t+1} (R_{t+2} + \\gamma G_{t+2:h}) + (1-\\rho_{t+1}) V(S_{t+1}) - V(S_{t+1}))$$\n",
    "$$G_{t:h} - V(S_t) = \\sum^{min(h,T)}_{k = t} \\rho_{t:k} \\gamma^{t-k} \\delta_{k}$$"
   ]
  }
 ],
 "metadata": {
  "language_info": {
   "name": "python"
  }
 },
 "nbformat": 4,
 "nbformat_minor": 2
}
