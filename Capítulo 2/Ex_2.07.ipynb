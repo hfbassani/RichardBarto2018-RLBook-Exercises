{
 "cells": [
  {
   "cell_type": "markdown",
   "metadata": {},
   "source": [
    "#### *Exercise 2.7*\n",
    "\n",
    "#### Unbiased Constant-Step-Size Trick In most of this chapter we have used sample averages to estimate action values because sample averages do not produce the initial bias that constant step sizes do (see the analysis leading to (2.6)). However, sample averages are not a completely satisfactory solution because they may perform poorly on nonstationary problems. Is it possible to avoid the bias of constant step sizes while retaining their advantages on nonstationary problems? One way is to use a step size of \n",
    "$\\beta_{n} =\\frac{\\alpha_{i}}{{ō}_{n}}$ \n",
    "\n",
    "\n",
    "#### to process the nth reward for a particular action, where  $\\alpha$ > 0 is a conventional constant step size, and ōn is a trace of one that starts at 0:\n",
    "\n",
    "${ō}_{n} = {ō}_{n-1} + \\alpha (1 - {ō}_{n-1}) $\n",
    "\n",
    "#### Carry out an analysis like that in (2.6) to show that Qn is an exponential recency-weighted average without initial bias."
   ]
  },
  {
   "cell_type": "markdown",
   "metadata": {},
   "source": [
    "---\n",
    "#### Resposta 1:\n",
    "\n",
    "Considerando a Equação 2.6 temos que: \n",
    "\n",
    "\n",
    "$Q_{n} = (1-\\alpha)^{(n-1)} Q1 + \\sum_{i=1}^{n-1}\\alpha(1-\\alpha)^{n-i}R_{i}$\n",
    "\n",
    "Pode-se notar que Q1 é ponderado por $w = (1-\\alpha)^{(n-1)}$\n",
    "\n",
    "Se consideremos que Q1 será ponderado por $\\beta_{n-1}$, tem-se que $w = (1-\\beta_{n-1})^{(n-1)}$\n",
    "\n",
    "Sendo $ō_{0}$ aproximadamente 1, teremos que w → 0∀i, logo Q1 não afetará mais a estimação de $Q_{n}$"
   ]
  }
 ],
 "metadata": {
  "kernelspec": {
   "display_name": "Python 3",
   "language": "python",
   "name": "python3"
  },
  "language_info": {
   "codemirror_mode": {
    "name": "ipython",
    "version": 3
   },
   "file_extension": ".py",
   "mimetype": "text/x-python",
   "name": "python",
   "nbconvert_exporter": "python",
   "pygments_lexer": "ipython3",
   "version": "3.8.5"
  }
 },
 "nbformat": 4,
 "nbformat_minor": 4
}
