{
 "cells": [
  {
   "cell_type": "markdown",
   "metadata": {},
   "source": [
    "### *Exercise 2.5 (programming)*\n",
    "\n",
    "#### Design and conduct an experiment to demonstrate the difficulties that sample-average methods have for nonstationary problems. Use a modified version of the 10-armed testbed in which all the q*(a) start out equal and then take independent random walks (say by adding a normally  distributed increment with mean 0 and standard deviation 0.01 to all the q*(a) on each step). Prepare plots like Figure 2.2 for an action-value method using sample averages, incrementally computed, and another action-value method using a constant step-size parameter, ALPHA = 0.1. Use ÉPSILON = 0.1 and longer runs, say of 10,000 steps."
   ]
  },
  {
   "cell_type": "markdown",
   "metadata": {},
   "source": [
    "---\n",
    "#### Resposta 1:"
   ]
  },
  {
   "cell_type": "code",
   "execution_count": 1,
   "metadata": {},
   "outputs": [],
   "source": [
    "import random\n",
    "import matplotlib.pyplot"
   ]
  },
  {
   "cell_type": "code",
   "execution_count": 2,
   "metadata": {},
   "outputs": [],
   "source": [
    "class Bandit(object):\n",
    "    '''\n",
    "    One-armed bandit auto ajustável\n",
    "    '''\n",
    "    def __init__(self, mean = 0, variance = 1):\n",
    "        self.__mean = 0\n",
    "        self.__variance = 1\n",
    "    \n",
    "    def evaluate(self):\n",
    "        return random.gauss(self.__mean, self.__variance)\n",
    "    \n",
    "    def adjust(self):\n",
    "        self.__mean += random.gauss(0, 0.01)\n",
    "    \n",
    "    @property\n",
    "    def variance(self):\n",
    "        return self.__variance\n",
    "    \n",
    "    @property\n",
    "    def mean(self):\n",
    "        return self.__mean\n",
    "    \n",
    "    def __repr__(self):\n",
    "        return \"{0}(mean={1}, variance={2})\".format(\n",
    "                    self.__class__.__name__, self.__mean, self.__variance\n",
    "                )"
   ]
  },
  {
   "cell_type": "code",
   "execution_count": 3,
   "metadata": {},
   "outputs": [],
   "source": [
    "class Testbed():\n",
    "        def __init__(self, k, epsilon, variances:list = None, seed=4):\n",
    "            self.__arms = k\n",
    "            self.__actions = [None] * (k)\n",
    "            for i in range(k):\n",
    "                variance = variances[i] if variances and variances[i] else 1\n",
    "                self.__actions[i] = Bandit(0, variance=variance)\n",
    "            self.__epsilon = epsilon\n",
    "            self.__seed = seed\n",
    "            random.seed(self.__seed)\n",
    "        \n",
    "        @property\n",
    "        def k(self):\n",
    "            return self.__arms\n",
    "\n",
    "        @property\n",
    "        def epsilon(self):\n",
    "            return self.__epsilon\n",
    "        \n",
    "        @property\n",
    "        def seed(self):\n",
    "            return self.__seed\n",
    "\n",
    "        def evaluate(self, action: int):\n",
    "            if not (action < len(self.__actions)):\n",
    "                raise IndexError(\"Ação escolhida inválida: {}\".format(action))\n",
    "            rewards = [i.evaluate() for i in self.__actions]\n",
    "            R = rewards[action]\n",
    "            opt = max(list(range(self.k)), key = lambda x: rewards[x])\n",
    "            optimal = True if opt == action else False\n",
    "            for i in self.__actions:\n",
    "                i.adjust()\n",
    "            return R, optimal\n",
    "\n",
    "        def reset(self):\n",
    "            '''\n",
    "            Necessário para reiniciar o ambiente\n",
    "            '''\n",
    "            random.seed(self.seed)\n",
    "            for i in range(1, self.k):\n",
    "                bandit = self.__actions[i]\n",
    "                self.__actions[i] = Bandit(0, bandit.variance)\n",
    "                del bandit\n",
    "        \n",
    "        def agent(self, alpha = 0):\n",
    "            '''\n",
    "            Algoritmo do agente (pg. 32)\n",
    "            \n",
    "            Assume por padrão alfa = 0. Se nenhum valor diferente de alfa for\n",
    "            atribuído, o algoritmo funciona com avaliação de média de amostras\n",
    "            \n",
    "            return generator\n",
    "            '''\n",
    "            Q = [0] * (self.k)\n",
    "            N = [0] * (self.k)\n",
    "            total_R = 0\n",
    "            total_optimal = 0\n",
    "            i = 0\n",
    "            while True:\n",
    "                i += 1\n",
    "                A = self.__select_action(Q)\n",
    "                R, optimal = self.evaluate(A)\n",
    "                N[A] += 1\n",
    "                Q[A] += alpha*(R - Q[A]) if alpha else (R - Q[A])/N[A]\n",
    "                total_R += R\n",
    "                total_optimal += int(optimal)\n",
    "                yield (total_R/i, total_optimal/i)\n",
    "        \n",
    "        def __select_action(self, action_list: list):\n",
    "            '''\n",
    "            Seleciona a ação com uma probabilidade 1 - Épsilon de exploração\n",
    "            \n",
    "            A lista de ações é embaralhada para que os empates sejam resolvidos\n",
    "            de forma aleatória\n",
    "            \n",
    "            return int\n",
    "            '''\n",
    "            choices = list(range(self.k))\n",
    "            random.shuffle(choices)\n",
    "            greedy = max(choices, key=lambda i: action_list[i])\n",
    "            w = [1 - self.epsilon, self.epsilon]\n",
    "            return random.choices([greedy, random.choice(choices)],w)[0]"
   ]
  },
  {
   "cell_type": "code",
   "execution_count": 4,
   "metadata": {},
   "outputs": [],
   "source": [
    "SEED = 4\n",
    "BANDITS = 10\n",
    "ALPHA = 0.1\n",
    "EPSILON = 0.1\n",
    "STEPS = 10000"
   ]
  },
  {
   "cell_type": "code",
   "execution_count": 5,
   "metadata": {},
   "outputs": [],
   "source": [
    "env = Testbed(BANDITS, EPSILON, seed=SEED)\n",
    "# Sample Average Method Agent\n",
    "sam = env.agent()\n",
    "rewards_sam = [0]\n",
    "optimal_sam = [0]\n",
    "for i in range(STEPS):\n",
    "    r, o = next(sam)\n",
    "    rewards_sam.append(r)\n",
    "    optimal_sam.append(o)\n",
    "\n",
    "env.reset()\n",
    "\n",
    "# Constant Step-Size Agent\n",
    "rewards_css = [0]\n",
    "optimal_css = [0]\n",
    "css = env.agent(alpha=ALPHA)    \n",
    "for i in range(STEPS):\n",
    "    r, o = next(css)\n",
    "    rewards_css.append(r)\n",
    "    optimal_css.append(o)"
   ]
  },
  {
   "cell_type": "code",
   "execution_count": 6,
   "metadata": {},
   "outputs": [
    {
     "data": {
      "text/plain": [
       "<matplotlib.legend.Legend at 0x7f2ffcbc5f10>"
      ]
     },
     "execution_count": 6,
     "metadata": {},
     "output_type": "execute_result"
    },
    {
     "data": {
      "image/png": "[encoded data removed]",
      "text/plain": [
       "<Figure size 432x288 with 1 Axes>"
      ]
     },
     "metadata": {
      "needs_background": "light"
     },
     "output_type": "display_data"
    }
   ],
   "source": [
    "# Average Reward\n",
    "reward = matplotlib.pyplot.figure(1)\n",
    "matplotlib.pyplot.ylabel(\"Average reward\")\n",
    "matplotlib.pyplot.xlabel(\"Steps\")\n",
    "matplotlib.pyplot.plot(rewards_sam, label=\"Sample Average\")\n",
    "matplotlib.pyplot.plot(rewards_css, label= \"Constant Step\")\n",
    "matplotlib.pyplot.legend()"
   ]
  },
  {
   "cell_type": "code",
   "execution_count": 7,
   "metadata": {},
   "outputs": [
    {
     "data": {
      "text/plain": [
       "<matplotlib.legend.Legend at 0x7f2ffcb302e0>"
      ]
     },
     "execution_count": 7,
     "metadata": {},
     "output_type": "execute_result"
    },
    {
     "data": {
      "image/png": "[encoded data removed]",
      "text/plain": [
       "<Figure size 432x288 with 1 Axes>"
      ]
     },
     "metadata": {
      "needs_background": "light"
     },
     "output_type": "display_data"
    }
   ],
   "source": [
    "# Average Optimal Choice\n",
    "optimal_choice = matplotlib.pyplot.figure(2)\n",
    "matplotlib.pyplot.ylabel(\"% Optimal action\")\n",
    "matplotlib.pyplot.xlabel(\"Steps\")\n",
    "matplotlib.pyplot.plot(optimal_sam, label= \"Sample Average\")\n",
    "matplotlib.pyplot.plot(optimal_css, label= \"Constant Step\")\n",
    "matplotlib.pyplot.legend()"
   ]
  }
 ],
 "metadata": {
  "kernelspec": {
   "display_name": "Python 3",
   "language": "python",
   "name": "python3"
  },
  "language_info": {
   "codemirror_mode": {
    "name": "ipython",
    "version": 3
   },
   "file_extension": ".py",
   "mimetype": "text/x-python",
   "name": "python",
   "nbconvert_exporter": "python",
   "pygments_lexer": "ipython3",
   "version": "3.8.5"
  }
 },
 "nbformat": 4,
 "nbformat_minor": 2
}
