{
 "cells": [
  {
   "cell_type": "markdown",
   "metadata": {},
   "source": [
    "### *Exercise 2.4*\n",
    "\n",
    "#### If the step-size parameters $ \\alpha_{n}$, are not constant, then the estimate $ Q_{n} $ is a weighted average of previously received rewards with a weighting different from that given by (2.6). What is the weighting on each prior reward for the general case, analogousto (2.6), in terms of the sequence of step-size parameters?"
   ]
  },
  {
   "cell_type": "markdown",
   "metadata": {},
   "source": [
    "---\n",
    "#### Resposta 1:\n",
    "\n",
    "$Q_{n+1} = Q_{n} + \\frac{1}{n}[R_{n}-Q_{n}]$ \n",
    "\n",
    "$= \\frac{1}{n}R_{n} + Q_{n} - \\frac{1}{n}Q_{n}$ \n",
    "\n",
    "$= \\frac{1}{n}R_{n} + (1 - \\frac{1}{n})Q_{n}$ \n",
    "\n",
    "$= \\frac{1}{n}R_{n} + (1 - \\frac{1}{n})[\\frac{1}{n-1}R_{n-1} + (1-\\frac{1}{n-1})Q_{n-1}]$ \n",
    "\n",
    "$= \\frac{1}{n}R_{n} + [(1 - \\frac{1}{n})\\frac{1}{n-1}R_{n-1} + (1 - \\frac{1}{n})(1-\\frac{1}{n-1})Q_{n-1}]$\n",
    "\n",
    "$= \\frac{1}{n}R_{n} + [(1 - \\frac{1}{n})(\\frac{1}{n-1})R_{n-1} + (1 - \\frac{1}{n})(1-\\frac{1}{n-1})[(\\frac{1}{n-2})R_{n-2} + (1-\\frac{1}{n-2})Q_{n-2})]]$ \n",
    "\n",
    "$ ... $ \n",
    "  \n",
    "o processo se repete até $(1-\\frac{1}{1})Q_{1}$.  \n",
    "  \n",
    "A equação pode ser reescrita da seguinte maneira:  \n",
    "\n",
    "$= \\frac{1}{n}R_{n} + \\sum_{i=1}^{n-1}R_{i}(\\frac{1}{i}) \\prod_{k=i+1}^{n}(1-\\frac{1}{k})$ \n",
    "\n",
    "Portanto o $ R_{n} $ será ponderado por $ \\frac{1}{n} $ e os demais $ R_{i} $'s influenciarão $ (\\frac{1}{i}) \\prod_{k=i+1}^{n}(1-\\frac{1}{k}) $ no resultado."
   ]
  },
  {
   "cell_type": "markdown",
   "metadata": {},
   "source": [
    "---\n",
    "#### Resposta 2:\n",
    "\n",
    "Sabendo que $\\alpha$ não é constante teremos que seguir a seguinte equação: \n",
    "\n",
    "$Q_{n+1} = Q_{n} + \\alpha_{n} [R_{n}-Q_{n}]$\n",
    "\n",
    "Expandindo essa equação:\n",
    "\n",
    "$Q_{n+1} = \\alpha_{n} R_{n} + (1 - \\alpha_{n})Q_{n} $\n",
    "\n",
    "$Q_{n+1} = \\alpha_{n} R_{n} + (1 - \\alpha_{n}) [\\alpha_{n-1} R_{n-1} + (1 - \\alpha_{n-1})Q_{n-1}] $\n",
    "\n",
    "$Q_{n+1} = \\alpha_{n} R_{n} + (1 - \\alpha_{n}) [\\alpha_{n-1} R_{n-1} + (1 - \\alpha_{n-1}) [\\alpha_{n-2} R_{n-2} + (1 - \\alpha_{n-2})Q_{n-2}]] $\n",
    "\n",
    "$ ... $  \n",
    "\n",
    "Reorganizando a equação:\n",
    "\n",
    "Parte 1: \n",
    "Tem-se que $\\alpha_{n} = \\frac{1}{n}$, sendo $ n \\in \\mathbb{Z},\\ n \\geq 1$\n",
    " \n",
    "Quando n = 1 tem-se que $ \\alpha_{1} R_{1} + (1 - \\alpha_{1})Q_{1} $, sendo $ \\alpha_{1} = \\frac{1}{1}$, logo pode-se reduzir para $ \\alpha_{1} R_{1}$\n",
    "\n",
    "Parte 2:\n",
    "\n",
    "$Q_{n+1} = \\sum_{i=1}^{n}\\alpha_{i} R_{i} - R_{i-1}\\prod_{i=1}^{n}\\alpha_{i}$\n"
   ]
  }
 ],
 "metadata": {
  "kernelspec": {
   "display_name": "Python 3",
   "language": "python",
   "name": "python3"
  },
  "language_info": {
   "codemirror_mode": {
    "name": "ipython",
    "version": 3
   },
   "file_extension": ".py",
   "mimetype": "text/x-python",
   "name": "python",
   "nbconvert_exporter": "python",
   "pygments_lexer": "ipython3",
   "version": "3.10.12"
  }
 },
 "nbformat": 4,
 "nbformat_minor": 2
}
