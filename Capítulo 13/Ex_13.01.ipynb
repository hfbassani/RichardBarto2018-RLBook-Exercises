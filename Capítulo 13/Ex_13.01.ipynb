{
 "cells": [
  {
   "cell_type": "markdown",
   "metadata": {},
   "source": [
    "#### *Exercise 13.1*\n",
    "\n",
    "#### Use your knowledge of the gridworld and its dynamics to determine an exact symbolic expression for the optimal probability of selecting the right action in Example 13.1."
   ]
  },
  {
   "cell_type": "markdown",
   "metadata": {},
   "source": [
    "Pela equação 13.2:\n",
    "$\\pi(a|s,\\theta) = \\frac{e^{h(s,a,\\theta)}}{e^{h(s,b,\\theta)}}$\n",
    "\n",
    "\n",
    "$\\pi(right|s,\\theta) = \\frac{e^{h(s,right,\\theta)}}{e^{h(s,right,\\theta)} + e^{h(s,left,\\theta)}}$\n",
    "\n",
    "$\\pi(right|s,\\theta) = \\frac{e^{\\theta^{T_{[1,0]}}}}{e^{\\theta^{T_{[0,1]}}} + e^{\\theta^{T_{[0,1]}}}} = \\frac{e^{\\theta_1}}{e^{\\theta_1} + e^{\\theta_2}}$\n",
    "\n",
    "\n",
    "Do exemplo 3.1 se sabe que a probabilidade de selecionar a ação \"right\" é 0.59 então um vetor parâmetro pode ser $\\theta = [-0.53, -0.89]$"
   ]
  }
 ],
 "metadata": {
  "language_info": {
   "name": "python"
  }
 },
 "nbformat": 4,
 "nbformat_minor": 2
}
