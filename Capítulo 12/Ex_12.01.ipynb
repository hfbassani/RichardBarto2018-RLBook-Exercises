{
 "cells": [
  {
   "cell_type": "markdown",
   "metadata": {},
   "source": [
    "#### *Exercise 12.11*\n",
    "\n",
    "#### The truncated version of the general off-policy return is denoted G t:h. Guess the correct equation for it, based on (12.27)."
   ]
  },
  {
   "cell_type": "markdown",
   "metadata": {},
   "source": [
    "$G^{\\lambda_a}_{t:h} = Q_t + \\sum^{h}_{k=t} \\delta^a_k \\delta^a_{k} \\prod^k_{i=t+1} \\gamma_i \\lambda_i \\rho_i$"
   ]
  }
 ],
 "metadata": {
  "language_info": {
   "name": "python"
  }
 },
 "nbformat": 4,
 "nbformat_minor": 2
}
