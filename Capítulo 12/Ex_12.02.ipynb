{
 "cells": [
  {
   "cell_type": "markdown",
   "metadata": {},
   "source": [
    "#### *Exercise 12.2*\n",
    "\n",
    "#### The parameter characterizes how fast the exponential weighting in Figure 12.2 falls o↵, and thus how far into the future the -return algorithm looks in determining its update. But a rate factor such as is sometimes an awkward way of characterizing the speed of the decay. For some purposes it is better to specify a time constant, or half-life. What is the equation relating and the half-life, ⌧ , the time by which the weighting sequence will have fallen to half of its initial value?"
   ]
  },
  {
   "cell_type": "markdown",
   "metadata": {},
   "source": [
    "Metade da sequencia de ponderação: $\\frac{1-\\lambda}{2}$\n",
    "Sequência de ponderação no tempo t+m: $(1-\\lambda) \\lambda^m$\n",
    "\n",
    "Então por definição: $(1-\\lambda) \\lambda^m = \\frac{1-\\lambda}{2} \\rightarrow m = \\frac{ln{2}}{ln{\\lambda}}$\n",
    "\n",
    "O passo é dado por:\n",
    "$\\tau_\\lambda = t+m= t+\\frac{ln{2}}{ln{\\lambda}}$"
   ]
  }
 ],
 "metadata": {
  "language_info": {
   "name": "python"
  }
 },
 "nbformat": 4,
 "nbformat_minor": 2
}
