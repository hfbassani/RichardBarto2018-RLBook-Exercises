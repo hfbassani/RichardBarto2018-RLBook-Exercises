{
 "cells": [
  {
   "cell_type": "markdown",
   "metadata": {},
   "source": [
    "### *Exercise 3.18:*\n",
    "\n",
    "**The value of a state depends on the values of the actions possible in that\n",
    "state and on how likely each action is to be taken under the current policy. We can\n",
    "think of this in terms of a small backup diagram rooted at the state and considering each\n",
    "possible action:**\n",
    "\n",
    "![Diagrama](./diag_18.png)\n",
    "\n",
    "**Give the equation corresponding to this intuition and diagram for the value at the root\n",
    "node, v⇡ (s), in terms of the value at the expected leaf node, q⇡ (s, a), given St = s. This\n",
    "equation should include an expectation conditioned on following the policy, ⇡. Then give\n",
    "a second equation in which the expected value is written out explicitly in terms of ⇡(a|s)\n",
    "such that no expected value notation appears in the equation.**"
   ]
  },
  {
   "cell_type": "markdown",
   "metadata": {},
   "source": [
    "---\n",
    "#### Resposta 1:\n",
    "\n",
    "$v_\\pi$ pode ser escrito em função de $q_\\pi$ como mostrado na equação,\n",
    "\n",
    "\\begin{equation}\n",
    "\n",
    "    v_{\\pi} = E[G_{t+1} | S_t = s] = \\sum_{a \\in \\mathcal{A}} E[G_{t+1} | St = s, A_t = a] = E[G_{t+1} | St = s, A_t = a1] + E[G_{t+1} | St = s, A_t = a2] + E[G_{t+1} | St = s, A_t = a3]\n",
    "\n",
    "\\end{equation}\n",
    "\n",
    "Em termos de $\\pi$, essa equação fica,\n",
    "\n",
    "\\begin{equation}\n",
    "\n",
    "    v_{\\pi} = \\pi(a_1|s) * q_{\\pi}(s,a_1) + \\pi(a_2|s) * q_{\\pi}(s,a_2) + \\pi(a_3|s) * q_{\\pi}(s,a_3) \n",
    "\n",
    "\\end{equation}"
   ]
  }
 ],
 "metadata": {
  "language_info": {
   "name": "python"
  }
 },
 "nbformat": 4,
 "nbformat_minor": 2
}
