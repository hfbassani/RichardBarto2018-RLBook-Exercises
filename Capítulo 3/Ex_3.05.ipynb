{
 "cells": [
  {
   "cell_type": "markdown",
   "metadata": {},
   "source": [
    "#### *Exercise 3.5*\n",
    "\n",
    "#### The equations in Section 3.1 are for the continuing case and need to be modified (very slightly) to apply to episodic tasks. Show that you know the modifications needed by giving the modified version of (3.3)."
   ]
  },
  {
   "cell_type": "markdown",
   "metadata": {},
   "source": [
    "---\n",
    "#### Resposta 1:\n",
    "$\\sum \\limits_{s \\in s ^+ } \\sum \\limits _{r \\in R} p(s',r|s,a)=1$"
   ]
  },
  {
   "cell_type": "markdown",
   "metadata": {},
   "source": [
    "---\n",
    "#### Resposta 2:\n",
    "\n",
    "Considerando a Equação apresentada na seção 3.1:\n",
    "\n",
    "$\\sum \\limits_{s' \\in S } \\sum \\limits _{r \\in R} p(s',r|s,a)=1 $ para todo $ {s \\in S}$, $ {a \\in A(s)}$ \n",
    "\n",
    "Para tarefas episódicas isso se torna:\n",
    "\n",
    "$\\sum \\limits_{s' \\in S⁺ } \\sum \\limits _{r \\in R} p(s',r|s,a)=1 $ para todo $ {s \\in S}$, $ {a \\in A(s)}$ \n"
   ]
  }
 ],
 "metadata": {
  "kernelspec": {
   "display_name": "Python 3",
   "language": "python",
   "name": "python3"
  },
  "language_info": {
   "codemirror_mode": {
    "name": "ipython",
    "version": 3
   },
   "file_extension": ".py",
   "mimetype": "text/x-python",
   "name": "python",
   "nbconvert_exporter": "python",
   "pygments_lexer": "ipython3",
   "version": "3.8.5"
  }
 },
 "nbformat": 4,
 "nbformat_minor": 4
}
