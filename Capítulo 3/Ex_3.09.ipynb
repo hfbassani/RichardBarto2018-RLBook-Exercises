{
 "cells": [
  {
   "cell_type": "markdown",
   "metadata": {},
   "source": [
    "#### *Exercise 3.9*\n",
    "\n",
    "#### Suppose $\\gamma = 0.9$ and the reward sequence is $R_{1} = 2$ followed by an infinite sequence of 7s. What are $G_{1}$ and $G_{0}$?"
   ]
  },
  {
   "cell_type": "markdown",
   "metadata": {},
   "source": [
    "---\n",
    "#### Resposta 1:\n",
    "Temos,\n",
    "\n",
    "$G_{t} = R_{t+1} + \\gamma R_{t+2} + \\gamma^2 R_{t+3} ...$;\n",
    "\n",
    "Logo,\n",
    "\n",
    "$G_{1} = R_{2} + \\gamma R_{3} + \\gamma^2 R_{4} + ...$;\n",
    "\n",
    "$G_{1} = 7 + 7 \\gamma + 7 \\gamma^2 + ...$;\n",
    "\n",
    "$G_{1} = 7 \\sum \\limits _{k=0} ^{\\infty} = \\gamma^k$;\n",
    "\n",
    "$G_{1} = \\frac {7}{1 - \\gamma}$;\n",
    "\n",
    "Com $\\gamma = 0.9$,\n",
    "\n",
    "$G_{1} = \\frac {7}{1 - 0.9} = \\frac {7}{0.1} = 70$;\n",
    "\n",
    "Ainda,\n",
    "\n",
    "$G_{t} = R_{t+1} + \\gamma G_{t+1}$;\n",
    "\n",
    "$G_{0} = R_{1} + \\gamma G_{1}$;\n",
    "\n",
    "$G_{0} = 2 + 0.9 * 70 = 2 + 63 = 65$;"
   ]
  },
  {
   "cell_type": "markdown",
   "metadata": {},
   "source": [
    "---\n",
    "#### Resposta 2:\n",
    "\n",
    "Sabe-se que se a recompensa for uma série infinita de 1s, $G_{t}$ é:\n",
    "\n",
    "\n",
    "$G_{t} = \\sum \\limits _{k=0} ^{\\infty} \\gamma^k = \\frac {1}{1 - \\gamma} $\n",
    "\n",
    "\n",
    "Então, para uma série infinita de 7s, isso se torna:\n",
    "\n",
    "\n",
    "$ G_{t} = \\frac {7}{0.1} $\n",
    "\n",
    "\n",
    "Logo: \n",
    "\n",
    "$G_{0} = 2 + \\frac {7}{0.1}$\n",
    "$G_{0} = 72$\n",
    "\n",
    "e \n",
    "\n",
    "$G_{1} = 7 + \\frac {7}{0.1}$\n",
    "\n",
    "$G_{1} = 77 $"
   ]
  }
 ],
 "metadata": {
  "kernelspec": {
   "display_name": "Python 3",
   "language": "python",
   "name": "python3"
  },
  "language_info": {
   "codemirror_mode": {
    "name": "ipython",
    "version": 3
   },
   "file_extension": ".py",
   "mimetype": "text/x-python",
   "name": "python",
   "nbconvert_exporter": "python",
   "pygments_lexer": "ipython3",
   "version": "3.8.5"
  }
 },
 "nbformat": 4,
 "nbformat_minor": 4
}
