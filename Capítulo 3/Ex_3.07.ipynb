{
 "cells": [
  {
   "cell_type": "markdown",
   "metadata": {},
   "source": [
    "#### *Exercise 3.7*\n",
    "\n",
    "#### Imagine that you are designing a robot to run a maze. You decide to give it a reward of +1 for escaping from the maze and a reward of zero at all other times. The task seems to break down naturally into episodes—the successive runs through the maze—so you decide to treat it as an episodic task, where the goal is to maximize expected total reward (3.7). After running the learning agent for a while, you find that it is showing no improvement in escaping from the maze. What is going wrong? Have you e↵ectively communicated to the agent what you want it to achieve?"
   ]
  },
  {
   "cell_type": "markdown",
   "metadata": {},
   "source": [
    "---\n",
    "#### Resposta 1:\n",
    "O retorno das recompensas em um caso contínuo é dado por:\n",
    "\n",
    "$G_{t}=R_{t+1}+R_{t+2}+...+R_{T}$;\n",
    "\n",
    "Dado que a recompensa para passos dentro do labirínto é de $1$ para estados terminal e $0$ para todos o outros, temos que:\n",
    "\n",
    "$G_{T}=1$;\n",
    "\n",
    "Considerando que o agente continua executando passos aleatórios até $t=\\infty$ ou $t = T$, o estado terminal será eventualmente alcançado, no entanto, qualquer estratégia resultará em recompensa $1$.\n",
    "\n",
    "Nesse caso, é mais eficiente ensinar o agente a sair do labirinto o quanto antes, dando recompensa $0$ para o estado terminal e $-1$ para qualquer outra movimentação dentro do labirínto, assim o agente maximiza a recompensa do episódio a partir da diminuição do número de passos no labirínto."
   ]
  },
  {
   "cell_type": "markdown",
   "metadata": {},
   "source": [
    "---\n",
    "#### Resposta 2:\n",
    "A recompensa é projetada de forma que ele receba +1 apenas depois de sair do labirinto e, portanto, não o incentiva a aprender como sair do labirinto mais rápido. Para fazer isso, precisaríamos fornecer uma recompensa negativa proporcional ao tempo no labirinto, por exemplo. -1 por intervalo de tempo.\n"
   ]
  }
 ],
 "metadata": {
  "kernelspec": {
   "display_name": "Python 3",
   "language": "python",
   "name": "python3"
  },
  "language_info": {
   "codemirror_mode": {
    "name": "ipython",
    "version": 3
   },
   "file_extension": ".py",
   "mimetype": "text/x-python",
   "name": "python",
   "nbconvert_exporter": "python",
   "pygments_lexer": "ipython3",
   "version": "3.8.5"
  }
 },
 "nbformat": 4,
 "nbformat_minor": 4
}
