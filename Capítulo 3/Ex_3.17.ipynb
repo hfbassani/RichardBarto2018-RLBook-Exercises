{
 "cells": [
  {
   "cell_type": "markdown",
   "metadata": {},
   "source": [
    "### *Exercise 3.17:*\n",
    "\n",
    "**What is the Bellman equation for action values, that is, for $q_\\pi$? It must give the action value $q_π(s, a)$ in terms of the action values, $q_π(s', a')$, of possible successors to the state–action pair $(s, a)$. Hint: the backup diagram to the right corresponds to this equation. Show the sequence of equations analogous to (3.14), but for action values.**"
   ]
  },
  {
   "cell_type": "markdown",
   "metadata": {},
   "source": [
    "---\n",
    "#### Resposta 1:\n",
    "\n",
    "\\begin{equation}\n",
    "\n",
    "    q_\\pi (s,a) = \\sum_{s',r} p(s', r|s, a) [r + \\sum_{a' \\in \\mathcal{A}} \\pi (a'|s') * \\gamma q_{\\pi} (s', a')]\n",
    "\\end{equation}\n"
   ]
  }
 ],
 "metadata": {
  "language_info": {
   "name": "python"
  }
 },
 "nbformat": 4,
 "nbformat_minor": 2
}
