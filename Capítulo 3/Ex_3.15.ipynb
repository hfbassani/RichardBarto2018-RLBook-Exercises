{
 "cells": [
  {
   "cell_type": "markdown",
   "metadata": {},
   "source": [
    "#### *Exercise 3.15* \n",
    "\n",
    "#### In the gridworld example, rewards are positive for goals, negative for running into the edge of the world, and zero the rest of the time. Are the signs of these rewards important, or only the intervals between them? Prove, using (3.8), that adding a constant c to all the rewards adds a constant, vc , to the values of all states, and thus does not a↵ect the relative values of any states under any policies. What is vc in terms of c and ?"
   ]
  },
  {
   "cell_type": "markdown",
   "metadata": {},
   "source": [
    "---\n",
    "#### Resposta 1:\n",
    "\n",
    "Parte 1): O sinal da recompensa não tem consequências; na verdade, é o intervalo entre cada recompensa que impulsiona o comportamento. Parte 2): A Equação 3.8 é a seguinte:\n",
    "\n",
    "$G_{t} = \\sum \\limits _{k=0} ^{\\infty} \\gamma^k R_{t+k+1}$\n",
    "\n",
    "quando adiciona-se uma constante c a todas as recompensas, isso se torna:\n",
    "\n",
    "$G_{t} = \\sum \\limits _{k=0} ^{\\infty} \\gamma^k [R_{t+k+1}+c]$\n",
    "\n",
    "$G_{t} = \\frac {R_{t+k+1}}{1 - \\gamma} + \\frac{c}{1 - \\gamma}$\n",
    "\n",
    "\n",
    "A recompensa cumulativa esperada de cada estado recebe um termo aditivo constante:\n",
    "\n",
    "$v_{c}$ em termos de c e $\\gamma$ é: \n",
    "\n",
    "$v_{c} = E[\\sum \\limits _{k=0} ^{\\infty} \\gamma^k c] =  \\frac{c}{1 - \\gamma}$\n"
   ]
  },
  {
   "cell_type": "markdown",
   "metadata": {},
   "source": []
  }
 ],
 "metadata": {
  "kernelspec": {
   "display_name": "Python 3",
   "language": "python",
   "name": "python3"
  },
  "language_info": {
   "codemirror_mode": {
    "name": "ipython",
    "version": 3
   },
   "file_extension": ".py",
   "mimetype": "text/x-python",
   "name": "python",
   "nbconvert_exporter": "python",
   "pygments_lexer": "ipython3",
   "version": "3.8.5"
  }
 },
 "nbformat": 4,
 "nbformat_minor": 4
}
