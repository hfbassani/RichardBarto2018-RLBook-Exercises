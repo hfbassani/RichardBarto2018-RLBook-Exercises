{
 "cells": [
  {
   "cell_type": "markdown",
   "metadata": {},
   "source": [
    "#### *Exercise 6.7*\n",
    "\n",
    "#### Design an off-policy version of the TD(0) update that can be used with arbitrary target policy π and covering behaviour policy b, using at each step t the importance sampling ratio ρt:t (5.3)."
   ]
  },
  {
   "cell_type": "markdown",
   "metadata": {},
   "source": [
    "---\n",
    "#### Resposta 1:\n",
    "\n",
    "$$ V(S_t) =  V(S_t) + \\alpha [\\rho_{t:t} R_{t+1} + \\rho{t:t} \\gamma V_{t+1}(S_{t+1} - V(S_t))]$$"
   ]
  }
 ],
 "metadata": {
  "language_info": {
   "name": "python"
  }
 },
 "nbformat": 4,
 "nbformat_minor": 2
}
