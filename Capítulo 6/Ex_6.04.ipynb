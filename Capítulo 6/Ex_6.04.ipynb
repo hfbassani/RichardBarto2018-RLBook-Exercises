{
 "cells": [
  {
   "cell_type": "markdown",
   "metadata": {},
   "source": [
    "#### *Exercise 6.4*\n",
    "\n",
    "#### The specific results shown in the right graph of the random walk example are dependent on the value of the step-size parameter, α. Do you think the conclusions about which algorithm is better would be affected if a wider range of α values were used? Is there a different, fixed value of α at which either algorithm would have performed significantly better than shown? Why or why not?"
   ]
  },
  {
   "cell_type": "markdown",
   "metadata": {},
   "source": [
    "---\n",
    "#### Resposta 1:\n",
    "\n",
    "A tendência é que quão menor o valor de $\\alpha$, melhor será o resultado final, mas mais lenta será a convergência. Contudo, não a uma mudança drástica com valores menores de $\\alpha$ do que os que já foram mostrados. Sendo assim, o melhor algoritmo não mudaria se fossem mostrados mais valores de $\\alpha$."
   ]
  }
 ],
 "metadata": {
  "language_info": {
   "name": "python"
  }
 },
 "nbformat": 4,
 "nbformat_minor": 2
}
