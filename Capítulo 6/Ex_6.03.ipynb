{
 "cells": [
  {
   "cell_type": "markdown",
   "metadata": {},
   "source": [
    "#### *Exercise 6.3*\n",
    "\n",
    "#### From the results shown in the left graph of the random walk example it appears that the first episode results in a change in only V(A). What does this tell you about what happened on the first episode? Why was only the estimate for this one state changed? By exactly how much was it changed?"
   ]
  },
  {
   "cell_type": "markdown",
   "metadata": {},
   "source": [
    "---\n",
    "#### Resposta 1:\n",
    "Com base no resultado do primeiro episódio, observa-se que ele terminou no bloco esquerdo sem nenhuma recompensa. A atualização do valor do estado A foi realizada da seguinte maneira:\n",
    "\n",
    "$V(A) = V(A) + α[R_{t+1} + V(S_{t})- V(A)]$\n",
    "\n",
    "\n",
    "$V(A) = 0.5 + 0.1[0+0-0.5]$\n",
    "\n",
    "\n",
    "$V(A) = 0.45$"
   ]
  }
 ],
 "metadata": {
  "kernelspec": {
   "display_name": "Python 3",
   "language": "python",
   "name": "python3"
  },
  "language_info": {
   "codemirror_mode": {
    "name": "ipython",
    "version": 3
   },
   "file_extension": ".py",
   "mimetype": "text/x-python",
   "name": "python",
   "nbconvert_exporter": "python",
   "pygments_lexer": "ipython3",
   "version": "3.7.3"
  }
 },
 "nbformat": 4,
 "nbformat_minor": 2
}
