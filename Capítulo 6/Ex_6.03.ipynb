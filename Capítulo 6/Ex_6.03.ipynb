{
 "cells": [
  {
   "cell_type": "markdown",
   "metadata": {},
   "source": [
    "#### *Exercise 6.3*\n",
    "\n",
    "#### From the results shown in the left graph of the random walk example it appears that the first episode results in a change in only V (A). What does this tell you about what happened on the first episode? Why was only the estimate for this one state changed? By exactly how much was it changed?"
   ]
  },
  {
   "cell_type": "markdown",
   "metadata": {},
   "source": [
    "---\n",
    "#### Resposta 1:\n",
    "\n",
    "Se A vai para a esquerda com $\\gamma = 1$:\n",
    "\n",
    "$$ V(A) = V(A) + \\alpha  [R_{t+1} + \\gamma V(T) - V(A)] =  0.5 + 0.1 [0 + 0 - 0.5] = 0.45$$\n",
    "\n",
    "O que é diferente dos outros estados, que se mantém em 0.5 devido aos seus valores iniciais, exceto o estado E. Contudo, isto indica que ao começar em C no primeiro episódio, as ações foram para a direita até o estado terminal, sendo a diferença do valor do estado A para os outros estados igual a 0.5."
   ]
  }
 ],
 "metadata": {
  "language_info": {
   "name": "python"
  }
 },
 "nbformat": 4,
 "nbformat_minor": 2
}
