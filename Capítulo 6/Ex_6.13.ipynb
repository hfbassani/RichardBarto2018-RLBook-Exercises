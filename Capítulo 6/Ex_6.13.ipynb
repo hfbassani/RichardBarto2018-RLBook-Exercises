{
 "cells": [
  {
   "cell_type": "markdown",
   "metadata": {},
   "source": [
    "#### *Exercise 6.13*\n",
    "\n",
    "#### What are the update equations for Double Expected Sarsa with an $\\epsilon$-greedy target policy?"
   ]
  },
  {
   "cell_type": "markdown",
   "metadata": {},
   "source": [
    "---\n",
    "#### Resposta 1:\n",
    "\n",
    "O termo multiplicado por $\\gamma$ seria $\\frac{1}{\\| \\mathcal{A} \\|} \\sum_a \\epsilon Q_2(S_{t+1},a) + (1-\\epsilon) Q_2(S_{t+1},a)$ para $Q_1$ e $\\frac{1}{\\| \\mathcal{A} \\|} \\sum_a \\epsilon Q_1(S_{t+1},a) + (1-\\epsilon) Q_1(S_{t+1},a)$ para $Q_2$. Ambos sendo atualizados com mesma probabilidade."
   ]
  }
 ],
 "metadata": {
  "language_info": {
   "name": "python"
  }
 },
 "nbformat": 4,
 "nbformat_minor": 2
}
