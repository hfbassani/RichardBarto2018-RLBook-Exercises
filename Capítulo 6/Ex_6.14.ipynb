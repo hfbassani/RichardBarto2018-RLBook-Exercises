{
 "cells": [
  {
   "cell_type": "markdown",
   "metadata": {},
   "source": [
    "#### *Exercise 6.14*\n",
    "\n",
    "#### Describe how the task of Jack’s Car Rental (Example 4.2) could be reformulated in terms of after-states. Why, in terms of this specific task, would such a reformulation be likely to speed convergence?"
   ]
  },
  {
   "cell_type": "markdown",
   "metadata": {},
   "source": [
    "---\n",
    "#### Resposta 1:\n",
    "\n",
    "A redução de tempo vem do fato de reduzir o número de valores de ação calculados. Neste caso, como o agente tem controle sobre a movimentação dos carros, o afterstate poderia ser a quantidade de carros no dia seguinte."
   ]
  }
 ],
 "metadata": {
  "language_info": {
   "name": "python"
  }
 },
 "nbformat": 4,
 "nbformat_minor": 2
}
