{
 "cells": [
  {
   "cell_type": "markdown",
   "metadata": {},
   "source": [
    "#### *Exercise 6.8*\n",
    "\n",
    "#### Show that an action-value version of (6.6) holds for the action-value form of the TD error δt = Rt+1 + γQ(St+1,At+1) − Q(St,At), again assuming that the values don’t change from step to step."
   ]
  },
  {
   "cell_type": "markdown",
   "metadata": {},
   "source": [
    "---\n",
    "#### Resposta 1:\n",
    "\n",
    "Sabe-se que $\\delta_t = R_{t+1} + \\gamma Q(S_{t+1}, A_{t+1}) - Q(S_{t},A_{t})$, então,\n",
    "\n",
    "$$G_{t} - Q(S_t, A_t) = R_{t+1} + \\gamma G_{t+1} + \\delta_t - R_{t+1} - \\gamma Q(S_{t+1}, A_{t+1})$$\n",
    "$$G_{t} - Q(S_t, A_t) = \\delta_t + \\gamma (G_{t+1} - Q(S_{t+1}, A_{t+1}))$$\n",
    "$$G_{t} - Q(S_t, A_t) = \\delta_t + \\gamma \\delta_{t+1} + \\gamma^2 (G_{t+2} - Q(S_{t+1}, A_{t+1}))$$\n",
    "$$G_{t} - Q(S_t, A_t) = \\sum^{T-1}_{k = t} \\gamma^{k-t} \\delta_k$$"
   ]
  }
 ],
 "metadata": {
  "language_info": {
   "name": "python"
  }
 },
 "nbformat": 4,
 "nbformat_minor": 2
}
