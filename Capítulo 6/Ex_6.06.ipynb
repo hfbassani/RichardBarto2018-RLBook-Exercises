{
 "cells": [
  {
   "cell_type": "markdown",
   "metadata": {},
   "source": [
    "#### *Exercise 6.6*\n",
    "\n",
    "#### In Example 6.2 we stated that the true values for the random walk example are 1/6, 2/6, 3/6, 4/6 and 5/6, for states A through E. Describe at least two different ways that these could have been computed. Which would you guess we actually used? Why?"
   ]
  },
  {
   "cell_type": "markdown",
   "metadata": {},
   "source": [
    "---\n",
    "#### Resposta 1:\n",
    "\n",
    "Provavelmente por programação dinâmica resolvendo um sistema de 6 equações."
   ]
  }
 ],
 "metadata": {
  "language_info": {
   "name": "python"
  }
 },
 "nbformat": 4,
 "nbformat_minor": 2
}
