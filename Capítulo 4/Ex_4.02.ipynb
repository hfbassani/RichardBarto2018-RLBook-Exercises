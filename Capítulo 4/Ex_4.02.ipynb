{
 "cells": [
  {
   "cell_type": "markdown",
   "metadata": {},
   "source": [
    "#### *Exercise 4.2*\n",
    "\n",
    "#### In Example 4.1, suppose a new state 15 is added to the gridworld just below state 13, and its actions, left, up, right, and down, take the agent to states 12, 13, 14, and 15, respectively. Assume that the transitions from the original states are unchanged. What, then, is v(15) for the equiprobable random policy? Now suppose the dynamics of state 13 are also changed, such that action down from state 13 takes the agent to the new state 15. What is v(15) for the equiprobable random policy in this case?"
   ]
  },
  {
   "cell_type": "markdown",
   "metadata": {},
   "source": [
    "---\n",
    "#### Resposta 1:\n",
    "$q_{π}(15) = 0.25 [(-1 + -20) + (-1 + -22) + (-1 + -14) + (-1 + v_{π}(15))]$\n",
    "\n",
    "$q_{π}(15) = 0.25 [(-60 + v_{π}(15))] $\n",
    "\n",
    "$q_{π}(15) = -15 + 0.25[v_{π}(15)]$\n",
    "\n",
    "Considerando que os estados 13 e 15 são estados de transição e o valor de transição para o próximo estado é equivalente, então tem-se que:\n",
    "\n",
    "$v_{π}(π) = -20$\n",
    "\n",
    "Logo: \n",
    "\n",
    "$q_{π}(π) = -15 + 0.25[20]$\n",
    "\n",
    "$q_{π}(π) = -20 $"
   ]
  }
 ],
 "metadata": {
  "kernelspec": {
   "display_name": "Python 3",
   "language": "python",
   "name": "python3"
  },
  "language_info": {
   "codemirror_mode": {
    "name": "ipython",
    "version": 3
   },
   "file_extension": ".py",
   "mimetype": "text/x-python",
   "name": "python",
   "nbconvert_exporter": "python",
   "pygments_lexer": "ipython3",
   "version": "3.8.5"
  }
 },
 "nbformat": 4,
 "nbformat_minor": 4
}
