{
 "cells": [
  {
   "cell_type": "markdown",
   "metadata": {},
   "source": [
    "#### *Exercise 11.1*\n",
    "\n",
    "#### Convert the equation of n-step o-policy TD (7.9) to semi-gradient form. Give accompanying definitions of the return for both the episodic and continuing cases."
   ]
  },
  {
   "cell_type": "markdown",
   "metadata": {},
   "source": [
    "Tendo com  base 7.9 e 11.6:\n",
    "$w_{t+n} = w_{t+n-1} + \\alpha \\rho_{t:t+n-1} [ G_{t:t+n} - \\hat{v} (St, w_{t+n-1})] \\Delta \\hat{v} (S_t, w_{t+n-1})$\n",
    "\n",
    "Com,\n",
    "\n",
    "$G_{t:t+n} = R_{t+1} + ... + \\gamma^{n-1} R_{t+n} + \\gamma^{n} \\hat{v}(S_t,w_{t+n-1})$ (episódico)\n",
    "\n",
    "$G_{t:t+n} = R_{t+1} - \\bar{R}_t + ... + R_{t+n} - \\bar{R}_{t+n-1} + \\hat{v}(S_t,w_{t+n-1})$ (contínuo)\n"
   ]
  }
 ],
 "metadata": {
  "language_info": {
   "name": "python"
  }
 },
 "nbformat": 4,
 "nbformat_minor": 2
}
