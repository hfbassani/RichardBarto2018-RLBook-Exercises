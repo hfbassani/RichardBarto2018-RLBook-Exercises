{
 "cells": [
  {
   "cell_type": "markdown",
   "metadata": {},
   "source": [
    "#### *Exercise 11.2*\n",
    "\n",
    "#### Convert the equations of n-step Q(σ) (7.11 and 7.17) to semi-gradient form. Give definitions that cover both the episodic and continuing cases."
   ]
  },
  {
   "cell_type": "markdown",
   "metadata": {},
   "source": [
    "Tendo com  base 7.9 e 11.6:\n",
    "\n",
    "$w_{t+n} = w_{t+n-1} + \\alpha \\rho_{t+1:t+n} [ G_{t:t+n} - \\hat{q} (St, w_{t+n-1})] \\Delta \\hat{Q} (S_t, w_{t+n-1})$\n",
    "\n",
    "Com,\n",
    "\n",
    "$G_{t:t+n} = R_{t+1} + \\gamma(\\sigma_{t+1} \\rho_{t+1} + (1-\\sigma_{t+1}) \\pi (A_{t+1}| S_{t+1}))(G_{t+1:t+n} - \\hat{q}_{t+n-1} (S_{t+1}, A_{t+1}, w_{t+n-1})) + \\gamma^{n} \\hat{q}(S_{t+n},A_{t+n},w_{t+n-1})$ (episódico)\n",
    "\n",
    "$G_{t:t+n} = R_{t+1} - \\bar{R}_t + (\\sigma_{t+1} \\rho_{t+1} + (1-\\sigma_{t+1}) \\pi (A_{t+1}| S_{t+1}))(G_{t+1:t+n} - \\hat{q}_{t+n-1} (S_{t+1}, A_{t+1}, w_{t+n-1})) + \\hat{q}(S_{t+n},A_{t+n},w_{t+n-1})$ (contínuo)\n"
   ]
  }
 ],
 "metadata": {
  "language_info": {
   "name": "python"
  }
 },
 "nbformat": 4,
 "nbformat_minor": 2
}
